{
 "cells": [
  {
   "cell_type": "code",
   "execution_count": 1,
   "id": "163e0816",
   "metadata": {},
   "outputs": [],
   "source": [
    "from pyspark.sql import SparkSession"
   ]
  },
  {
   "cell_type": "code",
   "execution_count": 2,
   "id": "67a90560",
   "metadata": {},
   "outputs": [],
   "source": [
    "spark = SparkSession.builder.appName(\"NYC_Taxi_Ingestion\").getOrCreate()"
   ]
  },
  {
   "cell_type": "code",
   "execution_count": 4,
   "id": "e82cfb78",
   "metadata": {},
   "outputs": [
    {
     "name": "stdout",
     "output_type": "stream",
     "text": [
      "Row count:  3898963\n",
      "root\n",
      " |-- VendorID: integer (nullable = true)\n",
      " |-- tpep_pickup_datetime: timestamp_ntz (nullable = true)\n",
      " |-- tpep_dropoff_datetime: timestamp_ntz (nullable = true)\n",
      " |-- passenger_count: long (nullable = true)\n",
      " |-- trip_distance: double (nullable = true)\n",
      " |-- RatecodeID: long (nullable = true)\n",
      " |-- store_and_fwd_flag: string (nullable = true)\n",
      " |-- PULocationID: integer (nullable = true)\n",
      " |-- DOLocationID: integer (nullable = true)\n",
      " |-- payment_type: long (nullable = true)\n",
      " |-- fare_amount: double (nullable = true)\n",
      " |-- extra: double (nullable = true)\n",
      " |-- mta_tax: double (nullable = true)\n",
      " |-- tip_amount: double (nullable = true)\n",
      " |-- tolls_amount: double (nullable = true)\n",
      " |-- improvement_surcharge: double (nullable = true)\n",
      " |-- total_amount: double (nullable = true)\n",
      " |-- congestion_surcharge: double (nullable = true)\n",
      " |-- Airport_fee: double (nullable = true)\n",
      " |-- cbd_congestion_fee: double (nullable = true)\n",
      "\n",
      "+--------+--------------------+---------------------+---------------+-------------+----------+------------------+------------+------------+------------+-----------+-----+-------+----------+------------+---------------------+------------+--------------------+-----------+------------------+\n",
      "|VendorID|tpep_pickup_datetime|tpep_dropoff_datetime|passenger_count|trip_distance|RatecodeID|store_and_fwd_flag|PULocationID|DOLocationID|payment_type|fare_amount|extra|mta_tax|tip_amount|tolls_amount|improvement_surcharge|total_amount|congestion_surcharge|Airport_fee|cbd_congestion_fee|\n",
      "+--------+--------------------+---------------------+---------------+-------------+----------+------------------+------------+------------+------------+-----------+-----+-------+----------+------------+---------------------+------------+--------------------+-----------+------------------+\n",
      "|1       |2025-07-01 00:29:37 |2025-07-01 00:45:30  |1              |7.3          |1         |N                 |138         |74          |1           |29.6       |7.75 |0.5    |9.0       |6.94        |1.0                  |54.79       |0.0                 |1.75       |0.0               |\n",
      "|1       |2025-07-01 00:23:28 |2025-07-01 01:07:44  |1              |17.7         |2         |N                 |132         |142         |1           |70.0       |4.25 |0.5    |5.0       |0.0         |1.0                  |80.75       |2.5                 |1.75       |0.0               |\n",
      "|2       |2025-07-01 00:53:50 |2025-07-01 01:27:12  |1              |9.98         |1         |N                 |138         |48          |1           |43.6       |6.0  |0.5    |10.87     |0.0         |1.0                  |66.97       |2.5                 |1.75       |0.75              |\n",
      "|2       |2025-07-01 00:58:49 |2025-07-01 01:15:55  |1              |10.27        |1         |N                 |138         |229         |1           |38.7       |6.0  |0.5    |14.1      |6.94        |1.0                  |72.24       |2.5                 |1.75       |0.75              |\n",
      "|2       |2025-07-01 00:09:22 |2025-07-01 00:23:54  |1              |2.94         |1         |N                 |211         |97          |1           |17.0       |1.0  |0.5    |3.0       |0.0         |1.0                  |25.75       |2.5                 |0.0        |0.75              |\n",
      "+--------+--------------------+---------------------+---------------+-------------+----------+------------------+------------+------------+------------+-----------+-----+-------+----------+------------+---------------------+------------+--------------------+-----------+------------------+\n",
      "only showing top 5 rows\n"
     ]
    }
   ],
   "source": [
    "path = r\"D:\\pyspark-project\\nyc_taxi_ETL_pipeline\\data\\yellow_tripdata_2025-07.parquet\"\n",
    "\n",
    "df_raw = spark.read.parquet(path)\n",
    "\n",
    "\n",
    "print(\"Row count: \", df_raw.count()) \n",
    "df_raw.printSchema() \n",
    "df_raw.show(5, truncate=False)"
   ]
  },
  {
   "cell_type": "code",
   "execution_count": null,
   "id": "ba1494c7",
   "metadata": {},
   "outputs": [],
   "source": []
  }
 ],
 "metadata": {
  "kernelspec": {
   "display_name": "Python 3",
   "language": "python",
   "name": "python3"
  },
  "language_info": {
   "codemirror_mode": {
    "name": "ipython",
    "version": 3
   },
   "file_extension": ".py",
   "mimetype": "text/x-python",
   "name": "python",
   "nbconvert_exporter": "python",
   "pygments_lexer": "ipython3",
   "version": "3.10.8"
  }
 },
 "nbformat": 4,
 "nbformat_minor": 5
}
